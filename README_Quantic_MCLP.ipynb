{
 "cells": [
  {
   "cell_type": "markdown",
   "metadata": {},
   "source": [
    "<img src=\"figs/logo_rise_eafit.png\" alt=\"RiSE-group logo\" align=\"left\" height=15 width=300>\n",
    "<img src=\"figs/corum.png\" alt=\"World Bank logo\" align=\"left\" height=15  width=250>\n",
    "<img src=\"figs/hood_college.png\" alt=\"World Bank logo\" align=\"right\" height=15  width=250>"
   ]
  },
  {
   "cell_type": "markdown",
   "metadata": {},
   "source": [
    "# Using quantum computing to solve the Maximal Covering Location Problem\n",
    "\n",
    "Alejandro Giraldo-Quintero <sup>1,2</sup>, Juan G. Lalinde-Pulido <sup>1</sup>, Juan C. Duque <sup>3</sup>, Daniel Sierra-Sosa <sup>4</sup>\n",
    " \n",
    "<sup>1</sup> EAFIT University, Colombia.\n",
    "\n",
    "<sup>2</sup> Corporación Estudiantes Universitarios y Profesionales de Marinilla (CORUM), Colombia.\n",
    "\n",
    "<sup>3</sup> Research in Spatial Economics (RiSE) Group, School of Applied Sciences and Engineering, EAFIT University, Colombia.\n",
    "\n",
    "<sup>4</sup> Department of Computer Science \\& Information Technology, Hood College, USA.\n",
    "\n",
    "__maintainer__ = \"RiSE Group\"  (http://www.rise-group.org/). Universidad EAFIT\n",
    "\n",
    "__Corresponding author__ = jduquec1@eafit.edu.co"
   ]
  },
  {
   "cell_type": "markdown",
   "metadata": {},
   "source": [
    "## Description:\n",
    "\n",
    "This repository contains all supplementary data that were used in the paper:"
   ]
  },
  {
   "cell_type": "markdown",
   "metadata": {},
   "source": [
    "### Abstract \n",
    "\n",
    "In this article, we present the process and results of using quantum computing (QC) to solve the maximal covering location problem proposed by Church and ReVelle. With this contribution, we seek to lay the foundations for other urban and regional scientists to begin to consider quantum technologies. We obtained promising results, but it is clear that there is a need for more capable devices with more qubits and less susceptibility to electronic noise to solve instances that currently cannot be optimally solved by traditional solvers. We foresee that QC will be of common use in urban and regional science and its applications in the years to come."
   ]
  },
  {
   "cell_type": "markdown",
   "metadata": {},
   "source": [
    "### Paper's bibtext entry:\n",
    "\n",
    "```tex\n",
    "@article{quantic_MCLP_2022,\n",
    "    author = {Giraldo, A. AND Lalinde-Pulido, J. G. AND Duque, J. C. AND Sierra-Sosa, D.},\n",
    "    journal = {xx},\n",
    "    publisher = {xx},\n",
    "    title = {Using quantum computing to solve the Maximal Covering Location Problem},\n",
    "    year = {2022},\n",
    "    month = {mm},\n",
    "    volume = {vv},\n",
    "    url = {xx},\n",
    "    pages = {},\n",
    "    number = {nn},\n",
    "    doi = {xx}\n",
    "}\n",
    "```"
   ]
  }
 ],
 "metadata": {
  "anaconda-cloud": {},
  "kernelspec": {
   "display_name": "Python 3",
   "language": "python",
   "name": "python3"
  },
  "language_info": {
   "codemirror_mode": {
    "name": "ipython",
    "version": 3
   },
   "file_extension": ".py",
   "mimetype": "text/x-python",
   "name": "python",
   "nbconvert_exporter": "python",
   "pygments_lexer": "ipython3",
   "version": "3.6.10"
  }
 },
 "nbformat": 4,
 "nbformat_minor": 1
}
